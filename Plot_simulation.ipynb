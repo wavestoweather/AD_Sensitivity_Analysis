{
 "cells": [
  {
   "cell_type": "code",
   "execution_count": null,
   "metadata": {},
   "outputs": [],
   "source": [
    "from bokeh.io import output_notebook\n",
    "import datashader as ds\n",
    "import holoviews as hv\n",
    "from holoviews.operation.datashader import datashade\n",
    "import holoviews.plotting.mpl\n",
    "import hvplot.dask # adds hvplot method to dask objects\n",
    "import hvplot.pandas\n",
    "import matplotlib\n",
    "from matplotlib import cm\n",
    "import matplotlib.pyplot as plt\n",
    "import numpy as np\n",
    "import os\n",
    "import pandas as pd\n",
    "import panel as pn\n",
    "from pylab import rcParams\n",
    "import sys\n",
    "from timeit import default_timer as timer\n",
    "import xarray as xr\n",
    "%matplotlib inline\n",
    "sys.path.append(os.getcwd())\n",
    "pn.extension()\n",
    "output_notebook()\n",
    "\n",
    "from scripts.Deriv_dask import Deriv_dask\n",
    "import scripts.loader as loader\n",
    "import scripts.plot_mapped as plotter_sim\n",
    "\n",
    "netcdf_path = \"/data/project/m2_jgu-tapt/online_trajectories/traj_new_appended\"\n",
    "parquet_path = \"/data/lustre/wcb_conv_slan_parquet\"\n",
    "parquet_test_path = \"/data/lustre/wcb_conv_slan_parquet.parquet\""
   ]
  },
  {
   "cell_type": "markdown",
   "metadata": {},
   "source": [
    "# Load the data"
   ]
  },
  {
   "cell_type": "code",
   "execution_count": null,
   "metadata": {},
   "outputs": [],
   "source": [
    "# Taken from WCB_AD_analyze: Compare the result of a simulation to the given data\n",
    "file_list = []\n",
    "for f in os.listdir(netcdf_path):\n",
    "    file_list.append(os.path.join(netcdf_path, f))\n",
    "        \n",
    "file_list = np.sort(np.asarray(file_list))\n",
    "columns = [\"P\", \"WCB_flag\", \"dp2h\", \n",
    "           \"conv_400\", \"conv_600\", \n",
    "           \"slan_400\", \"slan_600\", \n",
    "           \"longitude\", \"latitude\", \"QC\"]\n"
   ]
  },
  {
   "cell_type": "code",
   "execution_count": null,
   "metadata": {},
   "outputs": [],
   "source": [
    "ds = xr.open_dataset(file_list[0]).to_dataframe()[columns]\n",
    "for f in file_list:\n",
    "    if f == file_list[0]:\n",
    "        continue\n",
    "    ds = ds.append(xr.open_dataset(f).to_dataframe()[columns])\n",
    "# Make id and time columns instead of MultiIndex\n",
    "ds.reset_index(inplace=True)\n",
    "ds"
   ]
  },
  {
   "cell_type": "markdown",
   "metadata": {},
   "source": [
    "# Basic information"
   ]
  },
  {
   "cell_type": "code",
   "execution_count": null,
   "metadata": {},
   "outputs": [],
   "source": [
    "ds.describe()"
   ]
  },
  {
   "cell_type": "markdown",
   "metadata": {},
   "source": [
    "## Plot with maps"
   ]
  },
  {
   "cell_type": "code",
   "execution_count": null,
   "metadata": {},
   "outputs": [],
   "source": [
    "img_conv_slan = ds.loc[(ds[\"slan_400\"]) | (ds[\"slan_600\"]) | (ds[\"conv_400\"]) | (ds[\"conv_600\"])].hvplot.points(\n",
    "    'longitude', \n",
    "    'latitude', \n",
    "    geo=True, \n",
    "#     hover=True,\n",
    "#     dynamic=True,\n",
    "    datashade=True,\n",
    "    tiles='ESRI',\n",
    "    width=1000,\n",
    "    height=1000)\n",
    "hv.save(img_conv_slan, \"pics/slan_conv.png\", fmt=\"png\")\n",
    "img_conv_slan"
   ]
  },
  {
   "cell_type": "code",
   "execution_count": null,
   "metadata": {},
   "outputs": [],
   "source": [
    "img_slan_400 = ds.loc[ds[\"slan_400\"]].hvplot.points(\n",
    "    'longitude', \n",
    "    'latitude', \n",
    "    geo=True, \n",
    "#     hover=True,\n",
    "#     dynamic=True,\n",
    "    datashade=True,\n",
    "    tiles='ESRI',\n",
    "    width=1000,\n",
    "    height=1000)\n",
    "hv.save(img_slan_400, \"pics/slan_400.png\", fmt=\"png\")\n",
    "img_slan_400"
   ]
  },
  {
   "cell_type": "code",
   "execution_count": null,
   "metadata": {},
   "outputs": [],
   "source": [
    "img_slan_600 = ds.loc[ds[\"slan_600\"]].hvplot.points(\n",
    "    'longitude', \n",
    "    'latitude', \n",
    "    geo=True, \n",
    "#     hover=True,\n",
    "#     dynamic=True,\n",
    "    datashade=True,\n",
    "    tiles='ESRI',\n",
    "    width=1000,\n",
    "    height=1000)\n",
    "hv.save(img_slan_600, \"pics/slan_600.png\", fmt=\"png\")\n",
    "img_slan_600"
   ]
  },
  {
   "cell_type": "code",
   "execution_count": null,
   "metadata": {},
   "outputs": [],
   "source": [
    "img_conv_400 = ds.loc[ds[\"conv_400\"]].hvplot.points(\n",
    "    'longitude', \n",
    "    'latitude', \n",
    "    geo=True, \n",
    "#     hover=True,\n",
    "#     dynamic=True,\n",
    "    datashade=True,\n",
    "    tiles='ESRI',\n",
    "    width=1000,\n",
    "    height=1000)\n",
    "hv.save(img_conv_400, \"pics/conv_400.png\", fmt=\"png\")\n",
    "img_conv_400"
   ]
  },
  {
   "cell_type": "code",
   "execution_count": null,
   "metadata": {},
   "outputs": [],
   "source": [
    "img_conv_600 = ds.loc[ds[\"conv_600\"]].hvplot.points(\n",
    "    'longitude', \n",
    "    'latitude', \n",
    "    geo=True, \n",
    "#     hover=True,\n",
    "#     dynamic=True,\n",
    "    datashade=True,\n",
    "    tiles='ESRI',\n",
    "    width=1000,\n",
    "    height=1000)\n",
    "hv.save(img_conv_600, \"pics/conv_600.png\", fmt=\"png\")\n",
    "img_conv_600"
   ]
  },
  {
   "cell_type": "markdown",
   "metadata": {},
   "source": [
    "# Scatter with flagged datapoints in red and others in blue"
   ]
  },
  {
   "cell_type": "code",
   "execution_count": null,
   "metadata": {},
   "outputs": [],
   "source": [
    "scatter_slan_600 = ds.hvplot.scatter(\n",
    "    x=\"time\",\n",
    "    y=\"P\",\n",
    "    title=\"Slantwise 600 hPa\",\n",
    "    by=\"slan_600\",\n",
    "    cmap = {True: \"red\", False: \"blue\"},\n",
    "    label=None,\n",
    "    hover=True,\n",
    "    datashade=True,\n",
    "    height=600,\n",
    "    width=1400,\n",
    "    xticks=10,\n",
    "    legend=\"top_right\")\n",
    "hv.save(scatter_slan_600, \"pics/scatter_slan_600.png\", fmt=\"png\")\n",
    "scatter_slan_600"
   ]
  },
  {
   "cell_type": "code",
   "execution_count": null,
   "metadata": {},
   "outputs": [],
   "source": [
    "scatter_slan_400 = ds.hvplot.scatter(\n",
    "    x=\"time\",\n",
    "    y=\"P\",\n",
    "    title=\"Slantwise 400 hPa\",\n",
    "    by=\"slan_400\",\n",
    "    cmap = {True: \"red\", False: \"blue\"},\n",
    "    label=None,\n",
    "    hover=True,\n",
    "    datashade=True,\n",
    "    height=600,\n",
    "    width=1400,\n",
    "    xticks=10,\n",
    "    legend=\"top_right\")\n",
    "hv.save(scatter_slan_400, \"pics/scatter_slan_400.png\", fmt=\"png\")\n",
    "scatter_slan_400"
   ]
  },
  {
   "cell_type": "code",
   "execution_count": null,
   "metadata": {},
   "outputs": [],
   "source": [
    "scatter_conv_400 = ds.hvplot.scatter(\n",
    "    x=\"time\",\n",
    "    y=\"P\",\n",
    "    title=\"Convective 400 hPa\",\n",
    "    by=\"conv_400\",\n",
    "    cmap = {True: \"red\", False: \"blue\"},\n",
    "    label=None,\n",
    "    hover=True,\n",
    "    datashade=True,\n",
    "    height=600,\n",
    "    width=1400,\n",
    "    xticks=10,\n",
    "    legend=\"top_right\")\n",
    "hv.save(scatter_conv_400, \"pics/scatter_conv_400.png\", fmt=\"png\")\n",
    "scatter_conv_400"
   ]
  },
  {
   "cell_type": "code",
   "execution_count": null,
   "metadata": {},
   "outputs": [],
   "source": [
    "scatter_conv_600 = ds.hvplot.scatter(\n",
    "    x=\"time\",\n",
    "    y=\"P\",\n",
    "    title=\"Convective 600 hPa\",\n",
    "    by=\"conv_600\",\n",
    "    cmap = {True: \"red\", False: \"blue\"},\n",
    "    label=None,\n",
    "    hover=True,\n",
    "    datashade=True,\n",
    "    height=800,\n",
    "    width=1600,\n",
    "    xticks=10,\n",
    "    legend=\"top_right\")\n",
    "hv.save(scatter_conv_600, \"pics/scatter_conv_600.png\", fmt=\"png\")\n",
    "scatter_conv_600"
   ]
  },
  {
   "cell_type": "markdown",
   "metadata": {},
   "source": [
    "# Scatter plot with only flagged datapoints"
   ]
  },
  {
   "cell_type": "code",
   "execution_count": null,
   "metadata": {},
   "outputs": [],
   "source": [
    "scatter_only_conv_600 = ds.loc[ds[\"conv_600\"]].hvplot.scatter(\n",
    "    x=\"time\",\n",
    "    y=\"P\",\n",
    "    title=\"Convective 600 hPa\",\n",
    "    label=None,\n",
    "    hover=True,\n",
    "    datashade=True,\n",
    "    height=800,\n",
    "    width=1600,\n",
    "    xticks=10,\n",
    "    legend=\"top_right\")\n",
    "hv.save(scatter_only_conv_600, \"pics/scatter_only_conv_600.png\", fmt=\"png\")\n",
    "scatter_only_conv_600"
   ]
  },
  {
   "cell_type": "code",
   "execution_count": null,
   "metadata": {},
   "outputs": [],
   "source": [
    "scatter_only_conv_400 = ds.loc[ds[\"conv_400\"]].hvplot.scatter(\n",
    "    x=\"time\",\n",
    "    y=\"P\",\n",
    "    title=\"Convective 400 hPa\",\n",
    "    label=None,\n",
    "    hover=True,\n",
    "    datashade=True,\n",
    "    dynspread=True,\n",
    "    height=800,\n",
    "    width=1600,\n",
    "    xticks=10,\n",
    "    legend=\"top_right\")\n",
    "hv.save(scatter_only_conv_400, \"pics/scatter_only_conv_400.png\", fmt=\"png\")\n",
    "scatter_only_conv_400"
   ]
  },
  {
   "cell_type": "code",
   "execution_count": null,
   "metadata": {},
   "outputs": [],
   "source": [
    "scatter_only_slan_400 = ds.loc[ds[\"slan_400\"]].hvplot.scatter(\n",
    "    x=\"time\",\n",
    "    y=\"P\",\n",
    "    title=\"Slantwise 400 hPa\",\n",
    "    label=None,\n",
    "    hover=True,\n",
    "    datashade=True,\n",
    "    dynspread=True,\n",
    "    height=800,\n",
    "    width=1600,\n",
    "    xticks=10,\n",
    "    legend=\"top_right\")\n",
    "hv.save(scatter_only_slan_400, \"pics/scatter_only_slan_400.png\", fmt=\"png\")\n",
    "scatter_only_slan_400"
   ]
  },
  {
   "cell_type": "code",
   "execution_count": null,
   "metadata": {},
   "outputs": [],
   "source": [
    "scatter_only_slan_600 = ds.loc[ds[\"slan_600\"]].hvplot.scatter(\n",
    "    x=\"time\",\n",
    "    y=\"P\",\n",
    "    title=\"Slantwise 600 hPa\",\n",
    "    label=None,\n",
    "    hover=True,\n",
    "    height=800,\n",
    "    width=1600,\n",
    "    xticks=10,\n",
    "    legend=\"top_right\")\n",
    "hv.save(scatter_only_slan_600, \"pics/scatter_only_slan_600.png\", fmt=\"png\")\n",
    "scatter_only_slan_600"
   ]
  },
  {
   "cell_type": "markdown",
   "metadata": {},
   "source": [
    "# Binned data"
   ]
  },
  {
   "cell_type": "code",
   "execution_count": null,
   "metadata": {},
   "outputs": [],
   "source": [
    "hexbin_only_conv_600 = ds.loc[ds[\"conv_600\"]].hvplot.hexbin(\n",
    "    x=\"time\",\n",
    "    y=\"P\",\n",
    "    title=\"Convective 600 hPa\",\n",
    "    label=None,\n",
    "    hover=True,\n",
    "    gridsize=75,\n",
    "    colorbar=True,\n",
    "    cmap=\"viridis\",\n",
    "    height=800,\n",
    "    width=1600,\n",
    "    xticks=10,\n",
    "    legend=\"top_right\")\n",
    "hv.save(hexbin_only_conv_600, \"pics/hexbin_only_conv_600.png\", fmt=\"png\")\n",
    "hexbin_only_conv_600"
   ]
  },
  {
   "cell_type": "code",
   "execution_count": null,
   "metadata": {},
   "outputs": [],
   "source": [
    "hexbin_only_conv_400 = ds.loc[ds[\"conv_400\"]].hvplot.hexbin(\n",
    "    x=\"time\",\n",
    "    y=\"P\",\n",
    "    title=\"Convective 400 hPa\",\n",
    "    label=None,\n",
    "    hover=True,\n",
    "    gridsize=75,\n",
    "    colorbar=True,\n",
    "    cmap=\"viridis\",\n",
    "    height=800,\n",
    "    width=1600,\n",
    "    xticks=10,\n",
    "    legend=\"top_right\")\n",
    "hv.save(hexbin_only_conv_400, \"pics/hexbin_only_conv_400.png\", fmt=\"png\")\n",
    "hexbin_only_conv_400"
   ]
  },
  {
   "cell_type": "code",
   "execution_count": null,
   "metadata": {},
   "outputs": [],
   "source": [
    "hexbin_only_slan_400 = ds.loc[ds[\"slan_400\"]].hvplot.hexbin(\n",
    "    x=\"time\",\n",
    "    y=\"P\",\n",
    "    title=\"Slantwise 400 hPa\",\n",
    "    label=None,\n",
    "    hover=True,\n",
    "    gridsize=75,\n",
    "    colorbar=True,\n",
    "    cmap=\"viridis\",\n",
    "    height=800,\n",
    "    width=1600,\n",
    "    xticks=10,\n",
    "    legend=\"top_right\")\n",
    "hv.save(hexbin_only_slan_400, \"pics/hexbin_only_slan_400.png\", fmt=\"png\")\n",
    "hexbin_only_slan_400"
   ]
  },
  {
   "cell_type": "code",
   "execution_count": null,
   "metadata": {},
   "outputs": [],
   "source": [
    "hexbin_only_slan_600 = ds.loc[ds[\"slan_600\"]].hvplot.hexbin(\n",
    "    x=\"time\",\n",
    "    y=\"P\",\n",
    "    title=\"Slantwise 600 hPa\",\n",
    "    label=None,\n",
    "    hover=True,\n",
    "    gridsize=75,\n",
    "    colorbar=True,\n",
    "    cmap=\"viridis\",\n",
    "    height=800,\n",
    "    width=1600,\n",
    "    xticks=10,\n",
    "    legend=\"top_right\")\n",
    "hv.save(hexbin_only_slan_600, \"pics/hexbin_only_slan_600.png\", fmt=\"png\")\n",
    "hexbin_only_slan_600"
   ]
  },
  {
   "cell_type": "markdown",
   "metadata": {},
   "source": [
    "# Plot simulation results against AD simulation results"
   ]
  },
  {
   "cell_type": "markdown",
   "metadata": {},
   "source": [
    "Load the parquet data"
   ]
  },
  {
   "cell_type": "code",
   "execution_count": null,
   "metadata": {},
   "outputs": [],
   "source": [
    "in_params_dic = {\"Misc\":\n",
    "            [\"da_1\", \"da_2\", \"de_1\", \"de_2\", \"dd\", \"dN_c\", \"dgamma\",\n",
    "            \"dbeta_c\", \"dbeta_r\", \"ddelta1\", \"ddelta2\", \"dzeta\",\n",
    "            \"drain_gfak\", \"dcloud_k_au\", \"dcloud_k_sc\", \"dkc_autocon\",\n",
    "            \"dinv_z\"],\n",
    "            \"Rain\":\n",
    "            [\"drain_a_geo\", \"drain_b_geo\", \"drain_min_x\", \"drain_max_x\",\n",
    "            \"drain_sc_theta_q\", \"drain_sc_delta_q\", \"drain_sc_theta_n\",\n",
    "            \"drain_sc_delta_n\", \"drain_s_vel\", \"drain_a_vel\", \"drain_b_vel\",\n",
    "            \"drain_rho_v\", \"drain_c_z\", \"drain_sc_coll_n\", \"drain_cmu0\",\n",
    "            \"drain_cmu1\", \"drain_cmu2\", \"drain_cmu3\", \"drain_cmu4\",\n",
    "            \"drain_cmu5\", \"drain_alpha\", \"drain_beta\", \"drain_gamma\",\n",
    "            \"drain_nu\", \"drain_g1\", \"drain_g2\", \"drain_mu\", \"drain_nm1\",\n",
    "            \"drain_nm2\", \"drain_nm3\", \"drain_q_crit_c\", \"drain_d_crit_c\",\n",
    "            \"drain_ecoll_c\", \"drain_cap\", \"drain_a_ven\", \"drain_b_ven\",\n",
    "            \"drain_c_s\", \"drain_a_f\", \"drain_b_f\", \"drain_alfa_n\",\n",
    "            \"drain_alfa_q\", \"drain_lambda\", \"drain_vsedi_min\",\n",
    "            \"drain_vsedi_max\"],\n",
    "            \"Cloud\":\n",
    "            [\"dcloud_a_geo\", \"dcloud_b_geo\", \"dcloud_min_x\",\n",
    "            \"dcloud_max_x\", \"dcloud_sc_theta_q\", \"dcloud_sc_delta_q\",\n",
    "            \"dcloud_sc_theta_n\", \"dcloud_sc_delta_n\", \"dcloud_s_vel\",\n",
    "            \"dcloud_a_vel\", \"dcloud_b_vel\", \"dcloud_rho_v\", \"dcloud_c_z\",\n",
    "            \"dcloud_sc_coll_n\", \"dcloud_cmu0\", \"dcloud_cmu1\", \"dcloud_cmu2\",\n",
    "            \"dcloud_cmu3\", \"dcloud_cmu4\", \"dcloud_cmu5\", \"dcloud_alpha\",\n",
    "            \"dcloud_beta\", \"dcloud_gamma\", \"dcloud_nu\", \"dcloud_g1\",\n",
    "            \"dcloud_g2\", \"dcloud_mu\", \"dcloud_nm1\", \"dcloud_nm2\",\n",
    "            \"dcloud_nm3\", \"dcloud_q_crit_c\", \"dcloud_d_crit_c\",\n",
    "            \"dcloud_ecoll_c\", \"dcloud_cap\", \"dcloud_a_ven\", \"dcloud_b_ven\",\n",
    "            \"dcloud_c_s\", \"dcloud_a_f\", \"dcloud_b_f\", \"dcloud_alfa_n\",\n",
    "            \"dcloud_alfa_q\", \"dcloud_lambda\", \"dcloud_vsedi_min\",\n",
    "            \"dcloud_vsedi_max\"],\n",
    "            \"Graupel\":\n",
    "            [\"dgraupel_a_geo\", \"dgraupel_b_geo\", \"dgraupel_min_x\",\n",
    "            \"dgraupel_max_x\", \"dgraupel_sc_theta_q\", \"dgraupel_sc_delta_q\",\n",
    "            \"dgraupel_sc_theta_n\", \"dgraupel_sc_delta_n\", \"dgraupel_s_vel\",\n",
    "            \"dgraupel_a_vel\", \"dgraupel_b_vel\", \"dgraupel_rho_v\",\n",
    "            \"dgraupel_c_z\", \"dgraupel_sc_coll_n\", \"dgraupel_cmu0\",\n",
    "            \"dgraupel_cmu1\", \"dgraupel_cmu2\", \"dgraupel_cmu3\", \"dgraupel_cmu4\",\n",
    "            \"dgraupel_cmu5\", \"dgraupel_alpha\", \"dgraupel_beta\",\n",
    "            \"dgraupel_gamma\", \"dgraupel_nu\", \"dgraupel_g1\", \"dgraupel_g2\",\n",
    "            \"dgraupel_mu\", \"dgraupel_nm1\", \"dgraupel_nm2\", \"dgraupel_nm3\",\n",
    "            \"dgraupel_q_crit_c\", \"dgraupel_d_crit_c\", \"dgraupel_ecoll_c\",\n",
    "            \"dgraupel_cap\", \"dgraupel_a_ven\", \"dgraupel_b_ven\", \"dgraupel_c_s\",\n",
    "            \"dgraupel_a_f\", \"dgraupel_b_f\", \"dgraupel_alfa_n\", \"dgraupel_alfa_q\",\n",
    "            \"dgraupel_lambda\", \"dgraupel_vsedi_min\", \"dgraupel_vsedi_max\"],\n",
    "            \"Hail\":\n",
    "            [\"dhail_a_geo\", \"dhail_b_geo\", \"dhail_min_x\", \"dhail_max_x\",\n",
    "            \"dhail_sc_theta_q\", \"dhail_sc_delta_q\", \"dhail_sc_theta_n\",\n",
    "            \"dhail_sc_delta_n\", \"dhail_s_vel\", \"dhail_a_vel\", \"dhail_b_vel\",\n",
    "            \"dhail_rho_v\", \"dhail_c_z\", \"dhail_sc_coll_n\", \"dhail_cmu0\",\n",
    "            \"dhail_cmu1\", \"dhail_cmu2\", \"dhail_cmu3\", \"dhail_cmu4\",\n",
    "            \"dhail_cmu5\", \"dhail_alpha\", \"dhail_beta\", \"dhail_gamma\",\n",
    "            \"dhail_nu\", \"dhail_g1\", \"dhail_g2\", \"dhail_mu\", \"dhail_nm1\",\n",
    "            \"dhail_nm2\", \"dhail_nm3\", \"dhail_q_crit_c\", \"dhail_d_crit_c\",\n",
    "            \"dhail_ecoll_c\", \"dhail_cap\", \"dhail_a_ven\", \"dhail_b_ven\",\n",
    "            \"dhail_c_s\", \"dhail_a_f\", \"dhail_b_f\", \"dhail_alfa_n\",\n",
    "            \"dhail_alfa_q\", \"dhail_lambda\", \"dhail_vsedi_min\",\n",
    "            \"dhail_vsedi_max\"],\n",
    "            \"Ice\":\n",
    "            [\"dice_a_geo\", \"dice_b_geo\", \"dice_min_x\", \"dice_max_x\",\n",
    "            \"dice_sc_theta_q\", \"dice_sc_delta_q\", \"dice_sc_theta_n\",\n",
    "            \"dice_sc_delta_n\", \"dice_s_vel\", \"dice_a_vel\", \"dice_b_vel\",\n",
    "            \"dice_rho_v\", \"dice_c_z\", \"dice_sc_coll_n\", \"dice_cmu0\",\n",
    "            \"dice_cmu1\", \"dice_cmu2\", \"dice_cmu3\", \"dice_cmu4\", \"dice_cmu5\",\n",
    "            \"dice_alpha\", \"dice_beta\", \"dice_gamma\", \"dice_nu\", \"dice_g1\",\n",
    "            \"dice_g2\", \"dice_mu\", \"dice_nm1\", \"dice_nm2\", \"dice_nm3\",\n",
    "            \"dice_q_crit_c\", \"dice_d_crit_c\", \"dice_ecoll_c\", \"dice_cap\",\n",
    "            \"dice_a_ven\", \"dice_b_ven\", \"dice_c_s\", \"dice_a_f\", \"dice_b_f\",\n",
    "            \"dice_alfa_n\", \"dice_alfa_q\", \"dice_lambda\", \"dice_vsedi_min\",\n",
    "            \"dice_vsedi_max\"],\n",
    "            \"Snow\":\n",
    "            [\"dsnow_a_geo\", \"dsnow_b_geo\", \"dsnow_min_x\", \"dsnow_max_x\",\n",
    "            \"dsnow_sc_theta_q\", \"dsnow_sc_delta_q\", \"dsnow_sc_theta_n\",\n",
    "            \"dsnow_sc_delta_n\", \"dsnow_s_vel\", \"dsnow_a_vel\", \"dsnow_b_vel\",\n",
    "            \"dsnow_rho_v\", \"dsnow_c_z\", \"dsnow_sc_coll_n\", \"dsnow_cmu0\",\n",
    "            \"dsnow_cmu1\", \"dsnow_cmu2\", \"dsnow_cmu3\", \"dsnow_cmu4\",\n",
    "            \"dsnow_cmu5\", \"dsnow_alpha\", \"dsnow_beta\", \"dsnow_gamma\",\n",
    "            \"dsnow_nu\", \"dsnow_g1\", \"dsnow_g2\", \"dsnow_mu\", \"dsnow_nm1\",\n",
    "            \"dsnow_nm2\", \"dsnow_nm3\", \"dsnow_q_crit_c\", \"dsnow_d_crit_c\",\n",
    "            \"dsnow_ecoll_c\", \"dsnow_cap\", \"dsnow_a_ven\", \"dsnow_b_ven\",\n",
    "            \"dsnow_c_s\", \"dsnow_a_f\", \"dsnow_b_f\", \"dsnow_alfa_n\",\n",
    "            \"dsnow_alfa_q\", \"dsnow_lambda\", \"dsnow_vsedi_min\",\n",
    "            \"dsnow_vsedi_max\"]}\n",
    "keys = [\"Misc\", \"Cloud\"]\n",
    "out_path = \"pics\"\n",
    "kwargs = {\"alpha\": 0.3}\n",
    "trajectories = None\n",
    "sort = False"
   ]
  },
  {
   "cell_type": "code",
   "execution_count": null,
   "metadata": {},
   "outputs": [],
   "source": [
    "# Read directly the parquet data or ...\n",
    "# df_ad_sim = dd.read_parquet(parquet_test_path)\n",
    "# Use fancy class with in-built plot functions\n",
    "key = keys[0]\n",
    "in_params = in_params_dic[key]\n",
    "out_params = [\"p\", \"T\", \"w\", \"S\", \"qc\", \"qr\", \"qi\", \"qs\", \"qv\", \"Nc\", \"Nr\", \n",
    "              \"LONGITUDE\", \"LATITUDE\", \"qrout\", \"z\"]\n",
    "columns = [\"timestep\", \"Output Parameter\", \"trajectory\", \"MAP\"] + in_params + out_params\n",
    "\n",
    "deriv_ad_sim = Deriv_dask(\n",
    "    direc=direc_path,\n",
    "    parquet=True,\n",
    "    columns=columns,\n",
    "    backend=\"matplotlib\"\n",
    ")\n",
    "df_ad_sim = deriv_ad_sim.data\n",
    "df_ad_sim"
   ]
  },
  {
   "cell_type": "markdown",
   "metadata": {},
   "source": [
    "## Plot with dots for every simulation result\n"
   ]
  },
  {
   "cell_type": "code",
   "execution_count": null,
   "metadata": {},
   "outputs": [],
   "source": [
    "rcParams['figure.figsize'] = (16,10)\n",
    "for out_par in out_params:\n",
    "    plotter.plot_res_line(df_ad_sim, out_par, dots=True)"
   ]
  },
  {
   "cell_type": "code",
   "execution_count": null,
   "metadata": {},
   "outputs": [],
   "source": [
    "# Plot without dots for every simulation result\n",
    "rcParams['figure.figsize'] = (16,10)\n",
    "for out_par in out_params:\n",
    "    plotter_sim.plot_res_line(df_ad_sim, out_par, dots=False)"
   ]
  },
  {
   "cell_type": "markdown",
   "metadata": {},
   "source": [
    "## Hexbin plots for AD simulation"
   ]
  },
  {
   "cell_type": "code",
   "execution_count": null,
   "metadata": {},
   "outputs": [],
   "source": [
    "df_ad_sim.hvplot.hexbin(\n",
    "    x=\"P\",\n",
    "    y=\"S\",\n",
    "    title=\"Values of {}\".format(latexify.parse_word(\"S\")),\n",
    "    label=None, \n",
    "    gridsize=100,\n",
    "    logz=True,\n",
    "    clabel=\"Count\",\n",
    "    cmap=\"viridis\",\n",
    "    height=600, \n",
    "    width=1200, \n",
    "    colorbar=True)"
   ]
  }
 ],
 "metadata": {
  "kernelspec": {
   "display_name": "Python 3",
   "language": "python",
   "name": "python3"
  },
  "language_info": {
   "codemirror_mode": {
    "name": "ipython",
    "version": 3
   },
   "file_extension": ".py",
   "mimetype": "text/x-python",
   "name": "python",
   "nbconvert_exporter": "python",
   "pygments_lexer": "ipython3",
   "version": "3.7.6"
  }
 },
 "nbformat": 4,
 "nbformat_minor": 4
}
