{
 "cells": [
  {
   "cell_type": "markdown",
   "metadata": {},
   "source": [
    "# This is for all the plots \n",
    "## Setup"
   ]
  },
  {
   "cell_type": "code",
   "execution_count": null,
   "metadata": {},
   "outputs": [],
   "source": [
    "from bokeh.io import output_notebook\n",
    "import datashader as ds\n",
    "import holoviews as hv\n",
    "from holoviews.operation.datashader import datashade\n",
    "import holoviews.plotting.mpl\n",
    "import hvplot.dask # adds hvplot method to dask objects\n",
    "import hvplot.pandas\n",
    "import matplotlib\n",
    "from matplotlib import cm\n",
    "import matplotlib.pyplot as plt\n",
    "import numpy as np\n",
    "import os\n",
    "import pandas as pd\n",
    "import panel as pn\n",
    "from pylab import rcParams\n",
    "import sys\n",
    "from timeit import default_timer as timer\n",
    "import xarray as xr\n",
    "%matplotlib inline\n",
    "sys.path.append(os.getcwd())\n",
    "pn.extension()\n",
    "output_notebook()\n",
    "\n",
    "from scripts.Deriv_dask import Deriv_dask\n",
    "import scripts.loader as loader\n",
    "import scripts.plot_mapped as plotter_sim\n",
    "\n",
    "netcdf_path = \"/data/project/m2_jgu-tapt/online_trajectories/traj_new_appended\"\n",
    "parquet_path = \"/data/lustre/wcb_conv_slan_parquet\"\n",
    "parquet_test_path = \"/data/lustre/wcb_conv_slan_parquet.parquet\""
   ]
  },
  {
   "cell_type": "code",
   "execution_count": null,
   "metadata": {},
   "outputs": [],
   "source": []
  },
  {
   "cell_type": "markdown",
   "metadata": {},
   "source": [
    "## Simulation results\n",
    "Taken from WCB_AD_analyze: Compare the result of a simulation to the given data"
   ]
  },
  {
   "cell_type": "markdown",
   "metadata": {},
   "source": [
    "Load netcdf data"
   ]
  },
  {
   "cell_type": "code",
   "execution_count": null,
   "metadata": {},
   "outputs": [],
   "source": [
    "file_list = []\n",
    "for f in os.listdir(netcdf_path):\n",
    "    file_list.append(os.path.join(netcdf_path, f))\n",
    "        \n",
    "file_list = np.sort(np.asarray(file_list))\n",
    "columns = [\"P\", \"WCB_flag\", \"dp2h\", \"conv_400\", \"conv_600\", \"slan_400\", \"slan_600\", \"longitude\", \"latitude\", \"QC\"]\n"
   ]
  },
  {
   "cell_type": "markdown",
   "metadata": {},
   "source": [
    "## The Netcdf data\n",
    "Plots from add_flags_netcdf "
   ]
  },
  {
   "cell_type": "markdown",
   "metadata": {},
   "source": [
    "## Derivatives\n",
    "Binned results from test_datashader and lineplots from plot_tests"
   ]
  },
  {
   "cell_type": "code",
   "execution_count": null,
   "metadata": {},
   "outputs": [],
   "source": []
  }
 ],
 "metadata": {
  "kernelspec": {
   "display_name": "Python 3",
   "language": "python",
   "name": "python3"
  },
  "language_info": {
   "codemirror_mode": {
    "name": "ipython",
    "version": 3
   },
   "file_extension": ".py",
   "mimetype": "text/x-python",
   "name": "python",
   "nbconvert_exporter": "python",
   "pygments_lexer": "ipython3",
   "version": "3.7.6"
  }
 },
 "nbformat": 4,
 "nbformat_minor": 4
}
