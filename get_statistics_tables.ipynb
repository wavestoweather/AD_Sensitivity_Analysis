{
 "cells": [
  {
   "cell_type": "markdown",
   "id": "33d2e9a6-a260-4c8c-b692-dce65eba7a79",
   "metadata": {},
   "source": [
    "# Statistics in Tables\n",
    "Generate statistics over all the datapoints and put that into Latex tables."
   ]
  },
  {
   "cell_type": "code",
   "execution_count": null,
   "id": "c9594b94-5b9b-4bca-a904-fe33a8ef3ea1",
   "metadata": {},
   "outputs": [],
   "source": [
    "import warnings\n",
    "\n",
    "from IPython.display import HTML, display # Remove blank lines from tqdm\n",
    "import pickle\n",
    "\n",
    "from ad_sensitivity_analysis.plot.latexify import cites_to_citep\n",
    "from ad_sensitivity_analysis.printer.order_top_params import get_ordered_top_dic\n",
    "from ad_sensitivity_analysis.printer.process_description import get_process_desc_table\n",
    "from ad_sensitivity_analysis.printer.top_params import top_to_table\n",
    "from ad_sensitivity_analysis.statistics.top_params import traj_get_top_params\n",
    "from ad_sensitivity_analysis.statistics.stats_overall import get_sums_phase, get_phase_flow_statistics\n",
    "\n",
    "\n",
    "warnings.simplefilter(action=\"ignore\", category=RuntimeWarning)\n",
    "\n",
    "def rm_out_padding(): display(HTML(\"<style>div.jp-OutputPrompt { padding:unset;}</style>\"))\n",
    "\n",
    "rm_out_padding()"
   ]
  },
  {
   "cell_type": "markdown",
   "id": "27d89be6-cf6a-468b-bb00-1baad283d497",
   "metadata": {},
   "source": [
    "## At first we calculate some statistics\n",
    "This may take a long time."
   ]
  },
  {
   "cell_type": "code",
   "execution_count": null,
   "id": "ffdc4b3e-8abf-4674-a578-ac034f484401",
   "metadata": {},
   "outputs": [],
   "source": [
    "file_path = \"data/simulation\"\n",
    "sums_phase = get_sums_phase(\n",
    "    file_path, \n",
    "    \"data/statistics_\", \n",
    "    only_asc600=True, \n",
    "    inoutflow_time=240,\n",
    ")"
   ]
  },
  {
   "cell_type": "markdown",
   "id": "b3e3556f-cb36-4663-b388-dd4af836b87d",
   "metadata": {},
   "source": [
    "## Load the data\n",
    "In case you already have executed the cells above in a previous run."
   ]
  },
  {
   "cell_type": "code",
   "execution_count": null,
   "id": "c9e038bf-42c9-4b19-be06-6b633cbca30a",
   "metadata": {},
   "outputs": [],
   "source": [
    "with open(\"data/statistics_phase.pkl\", \"rb\") as f:\n",
    "    sums_phase = pickle.load(f)"
   ]
  },
  {
   "cell_type": "markdown",
   "id": "8d1dd5b5-58ca-46d2-9a01-dd2bf9c8b585",
   "metadata": {},
   "source": [
    "## Get the top parameters\n",
    "We get the top 10 parameters and the parameters with an impact within one magnitude."
   ]
  },
  {
   "cell_type": "code",
   "execution_count": null,
   "id": "1a80317c-760c-4dd9-afc8-8e91fc2769ba",
   "metadata": {},
   "outputs": [],
   "source": [
    "(\n",
    "    top_magn_set_phase,\n",
    "    top10_set_phase,\n",
    "    top_magn_sens_dic_phase,\n",
    "    top_sens_dic_phase,\n",
    ") = traj_get_top_params(\n",
    "    sums_phase, \n",
    "    sums_phase.keys(), \n",
    "    n=10,               # top 10 parameters\n",
    "    orders=1,           # top parameters within one magnitude\n",
    ")"
   ]
  },
  {
   "cell_type": "markdown",
   "id": "0c366580-5255-44d5-962b-70429194e638",
   "metadata": {},
   "source": [
    "## A table with the processes from the top parameters"
   ]
  },
  {
   "cell_type": "code",
   "execution_count": null,
   "id": "67abb39b-64a6-4b8f-9556-6d7fe09260ae",
   "metadata": {},
   "outputs": [],
   "source": [
    "caption = r\"The processes where model parameters with a large impact are involved. \\textbf{TODO Maicon: This is an auto-generated table. The text needs some work.}\"\n",
    "label = \"tab:processes\"\n",
    "table = get_process_desc_table(list(top_magn_set_phase), caption=caption, label=label, breakup=True)\n",
    "table = cites_to_citep(cites_to_citep)\n",
    "print(table)"
   ]
  },
  {
   "cell_type": "markdown",
   "id": "20c162f9-5aea-4a7f-97c2-99ac66ab9d32",
   "metadata": {},
   "source": [
    "## Get the number of parameters and the table for each model state variable\n",
    "The parameter with the largest impact is the first in each table"
   ]
  },
  {
   "cell_type": "code",
   "execution_count": null,
   "id": "49f617fe-c576-4b54-8e6b-d11978a599d2",
   "metadata": {},
   "outputs": [],
   "source": [
    "text = top_to_table(\n",
    "    get_ordered_top_dic(top_magn_sens_dic_phase, sums_phase), \n",
    "    caption=\"\", \n",
    "    label=\"\").replace(r\"\\partial\", \"\")\n",
    "print(text)"
   ]
  },
  {
   "cell_type": "markdown",
   "id": "f04260ef-83f3-4680-a790-39dfa56d2ae7",
   "metadata": {},
   "source": [
    "## Get the top parameters for each model state variable and phase"
   ]
  },
  {
   "cell_type": "code",
   "execution_count": null,
   "id": "ff472c08-4a29-4d96-9101-d2b5f69edcb0",
   "metadata": {},
   "outputs": [],
   "source": [
    "caption = \"\"\"\\\n",
    "The model parameters with sensitivity in the top magnitude for each model state variable and phase.\\\n",
    "\"\"\"\n",
    "label = \"tab:analysis:top_magn_phase\"\n",
    "table = top_to_table(\n",
    "    get_ordered_top_dic(top_magn_sens_dic_phase, sums_phase),\n",
    "    caption, \n",
    "    label, \n",
    "    parse=True,\n",
    ")\n",
    "table = table.replace(r\"\\partial\", \"\")\n",
    "print(table)"
   ]
  },
  {
   "cell_type": "markdown",
   "id": "843fbd66-eb9e-41af-8930-3177d5523d54",
   "metadata": {},
   "source": [
    "## Number of datapoints in each phase/flow and average temperatures"
   ]
  },
  {
   "cell_type": "code",
   "execution_count": null,
   "id": "3a43c9fe-b843-4012-aee5-95687fa062f3",
   "metadata": {},
   "outputs": [],
   "source": [
    "n_phases, n_flows, temp_phases, temp_flows = get_phase_flow_statistics(\n",
    "    file_path=\"data/simulation/\",\n",
    "    inoutflow_time=240,\n",
    ")"
   ]
  },
  {
   "cell_type": "code",
   "execution_count": null,
   "id": "7e07f8d1-d5f3-4aca-b697-d7e8db62ece9",
   "metadata": {},
   "outputs": [],
   "source": [
    "print(\"Phase: Min, Max, Mean, Std Temperature\")\n",
    "for key in temp_phases:\n",
    "    print(f\"{key:<20}: \\\n",
    "    {temp_phases[key][0]:3.2f}, \\\n",
    "    {temp_phases[key][1]:3.2f}, \\\n",
    "    {temp_phases[key][2]:3.2f}, \\\n",
    "    {np.sqrt(temp_phases[key][3]):3.2f}\") "
   ]
  },
  {
   "cell_type": "code",
   "execution_count": null,
   "id": "4e67c680-1440-43da-951f-af9996490082",
   "metadata": {},
   "outputs": [],
   "source": [
    "print(\"Flow: Min, Max, Mean, Var Temperature\")\n",
    "for key in temp_flows:\n",
    "    print(f\"{key:<20}: \\\n",
    "    {temp_flows[key][0]:3.2f}, \\\n",
    "    {temp_flows[key][1]:3.2f}, \\\n",
    "    {temp_flows[key][2]:3.2f}, \\\n",
    "    {np.sqrt(temp_flows[key][3]):3.2f}\") "
   ]
  },
  {
   "cell_type": "code",
   "execution_count": null,
   "id": "68dd3156-73f2-4b2d-83a7-25f3b5071c0d",
   "metadata": {},
   "outputs": [],
   "source": [
    "print(\"Number of datapoints in each phase\")\n",
    "s = 0\n",
    "for key in n_phases:\n",
    "    if \"neutral\" not in key:\n",
    "        s += n_phases[key]\n",
    "        print(f\"{key}: {n_phases[key]}\")\n",
    "print(\"Percentage\")\n",
    "for key in n_phases:\n",
    "    if \"neutral\" not in key:\n",
    "        print(f\"{key}: {n_phases[key]/s*100:3.2f}\")"
   ]
  },
  {
   "cell_type": "code",
   "execution_count": null,
   "id": "f63be5f4-a087-4370-96eb-7a10548c233b",
   "metadata": {},
   "outputs": [],
   "source": [
    "print(\"Number of datapoints in each flow\")\n",
    "s = 0\n",
    "for key in n_flows:\n",
    "    if \"neutral\" not in key:\n",
    "        s += n_flows[key]\n",
    "        print(f\"{key}: {n_flows[key]}\")\n",
    "print(\"Percentage\")\n",
    "for key in n_flows:\n",
    "    if \"neutral\" not in key:\n",
    "        print(f\"{key}: {n_flows[key]/s*100:3.2f}\")"
   ]
  },
  {
   "cell_type": "markdown",
   "id": "69615cfd-6d7f-473a-ade2-420d796e5c46",
   "metadata": {},
   "source": [
    "## Calculate the statistics for each phase and flow combination"
   ]
  },
  {
   "cell_type": "code",
   "execution_count": null,
   "id": "7afa6d2e-bbfa-4ef5-bb34-2bcd49f53c77",
   "metadata": {},
   "outputs": [],
   "source": [
    "phase_flows, temp_dict = get_phase_flow_statistics(\n",
    "    file_path=\"data/simulation/\",\n",
    "    inoutflow_time=240,\n",
    ")"
   ]
  },
  {
   "cell_type": "code",
   "execution_count": null,
   "id": "cce435cd-141a-4589-8bcc-0c448ffff75d",
   "metadata": {},
   "outputs": [],
   "source": [
    "print(\"Phase: Min, Max, Mean, Std Temperature\")\n",
    "for key in temp_dict:\n",
    "    print(f\"{key:<20}: \\\n",
    "    {temp_dict[key][0]:3.2f}, \\\n",
    "    {temp_dict[key][1]:3.2f}, \\\n",
    "    {temp_dict[key][2]:3.2f}, \\\n",
    "    {np.sqrt(temp_dict[key][3]):3.2f}\")"
   ]
  },
  {
   "cell_type": "code",
   "execution_count": null,
   "id": "1e990741-6d33-4c46-913d-8369d26aa25f",
   "metadata": {},
   "outputs": [],
   "source": [
    "print(\"Number of datapoints\")\n",
    "s = 0\n",
    "for key in phase_flows:\n",
    "    if \"neutral\" not in key:\n",
    "        s += phase_flows[key]\n",
    "        print(f\"{key}: {phase_flows[key]}\")\n",
    "print(\"Percentage\")\n",
    "for key in phase_flows:\n",
    "    if \"neutral\" not in key:\n",
    "        print(f\"{key}: {phase_flows[key]/s*100:3.2f}\")"
   ]
  }
 ],
 "metadata": {
  "kernelspec": {
   "display_name": "Python 3 (ipykernel)",
   "language": "python",
   "name": "python3"
  },
  "language_info": {
   "codemirror_mode": {
    "name": "ipython",
    "version": 3
   },
   "file_extension": ".py",
   "mimetype": "text/x-python",
   "name": "python",
   "nbconvert_exporter": "python",
   "pygments_lexer": "ipython3",
   "version": "3.10.4"
  }
 },
 "nbformat": 4,
 "nbformat_minor": 5
}
